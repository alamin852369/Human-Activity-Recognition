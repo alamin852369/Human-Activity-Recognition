{
  "nbformat": 4,
  "nbformat_minor": 0,
  "metadata": {
    "colab": {
      "name": "HAR_ML.ipynb",
      "provenance": [],
      "collapsed_sections": []
    },
    "kernelspec": {
      "name": "python3",
      "display_name": "Python 3"
    },
    "language_info": {
      "name": "python"
    }
  },
  "cells": [
    {
      "cell_type": "code",
      "metadata": {
        "colab": {
          "base_uri": "https://localhost:8080/"
        },
        "id": "_oIKEoJdooyx",
        "outputId": "39c174a5-c733-4c21-8132-5d54b6dbbf5d"
      },
      "source": [
        "from google.colab import drive\n",
        "drive.mount('/content/gdrive')"
      ],
      "execution_count": null,
      "outputs": [
        {
          "output_type": "stream",
          "text": [
            "Mounted at /content/gdrive\n"
          ],
          "name": "stdout"
        }
      ]
    },
    {
      "cell_type": "code",
      "metadata": {
        "colab": {
          "base_uri": "https://localhost:8080/",
          "height": 253
        },
        "id": "Qk1vAySjpVNY",
        "outputId": "16e13e31-45cd-4b57-a17d-63a05fbf8a5b"
      },
      "source": [
        "import numpy as np\n",
        "import pandas as pd\n",
        "\n",
        "\n",
        "train = pd.read_csv('/content/gdrive/MyDrive/Case_1/UCI HAR Dataset/CSV_files/train.csv')\n",
        "test = pd.read_csv('/content/gdrive/MyDrive/Case_1/UCI HAR Dataset/CSV_files/test.csv')\n",
        "train.head()\n",
        "\n"
      ],
      "execution_count": null,
      "outputs": [
        {
          "output_type": "execute_result",
          "data": {
            "text/html": [
              "<div>\n",
              "<style scoped>\n",
              "    .dataframe tbody tr th:only-of-type {\n",
              "        vertical-align: middle;\n",
              "    }\n",
              "\n",
              "    .dataframe tbody tr th {\n",
              "        vertical-align: top;\n",
              "    }\n",
              "\n",
              "    .dataframe thead th {\n",
              "        text-align: right;\n",
              "    }\n",
              "</style>\n",
              "<table border=\"1\" class=\"dataframe\">\n",
              "  <thead>\n",
              "    <tr style=\"text-align: right;\">\n",
              "      <th></th>\n",
              "      <th>tBodyAccmeanX</th>\n",
              "      <th>tBodyAccmeanY</th>\n",
              "      <th>tBodyAccmeanZ</th>\n",
              "      <th>tBodyAccstdX</th>\n",
              "      <th>tBodyAccstdY</th>\n",
              "      <th>tBodyAccstdZ</th>\n",
              "      <th>tBodyAccmadX</th>\n",
              "      <th>tBodyAccmadY</th>\n",
              "      <th>tBodyAccmadZ</th>\n",
              "      <th>tBodyAccmaxX</th>\n",
              "      <th>tBodyAccmaxY</th>\n",
              "      <th>tBodyAccmaxZ</th>\n",
              "      <th>tBodyAccminX</th>\n",
              "      <th>tBodyAccminY</th>\n",
              "      <th>tBodyAccminZ</th>\n",
              "      <th>tBodyAccsma</th>\n",
              "      <th>tBodyAccenergyX</th>\n",
              "      <th>tBodyAccenergyY</th>\n",
              "      <th>tBodyAccenergyZ</th>\n",
              "      <th>tBodyAcciqrX</th>\n",
              "      <th>tBodyAcciqrY</th>\n",
              "      <th>tBodyAcciqrZ</th>\n",
              "      <th>tBodyAccentropyX</th>\n",
              "      <th>tBodyAccentropyY</th>\n",
              "      <th>tBodyAccentropyZ</th>\n",
              "      <th>tBodyAccarCoeffX1</th>\n",
              "      <th>tBodyAccarCoeffX2</th>\n",
              "      <th>tBodyAccarCoeffX3</th>\n",
              "      <th>tBodyAccarCoeffX4</th>\n",
              "      <th>tBodyAccarCoeffY1</th>\n",
              "      <th>tBodyAccarCoeffY2</th>\n",
              "      <th>tBodyAccarCoeffY3</th>\n",
              "      <th>tBodyAccarCoeffY4</th>\n",
              "      <th>tBodyAccarCoeffZ1</th>\n",
              "      <th>tBodyAccarCoeffZ2</th>\n",
              "      <th>tBodyAccarCoeffZ3</th>\n",
              "      <th>tBodyAccarCoeffZ4</th>\n",
              "      <th>tBodyAcccorrelationXY</th>\n",
              "      <th>tBodyAcccorrelationXZ</th>\n",
              "      <th>tBodyAcccorrelationYZ</th>\n",
              "      <th>...</th>\n",
              "      <th>fBodyBodyAccJerkMagmaxInds</th>\n",
              "      <th>fBodyBodyAccJerkMagmeanFreq</th>\n",
              "      <th>fBodyBodyAccJerkMagskewness</th>\n",
              "      <th>fBodyBodyAccJerkMagkurtosis</th>\n",
              "      <th>fBodyBodyGyroMagmean</th>\n",
              "      <th>fBodyBodyGyroMagstd</th>\n",
              "      <th>fBodyBodyGyroMagmad</th>\n",
              "      <th>fBodyBodyGyroMagmax</th>\n",
              "      <th>fBodyBodyGyroMagmin</th>\n",
              "      <th>fBodyBodyGyroMagsma</th>\n",
              "      <th>fBodyBodyGyroMagenergy</th>\n",
              "      <th>fBodyBodyGyroMagiqr</th>\n",
              "      <th>fBodyBodyGyroMagentropy</th>\n",
              "      <th>fBodyBodyGyroMagmaxInds</th>\n",
              "      <th>fBodyBodyGyroMagmeanFreq</th>\n",
              "      <th>fBodyBodyGyroMagskewness</th>\n",
              "      <th>fBodyBodyGyroMagkurtosis</th>\n",
              "      <th>fBodyBodyGyroJerkMagmean</th>\n",
              "      <th>fBodyBodyGyroJerkMagstd</th>\n",
              "      <th>fBodyBodyGyroJerkMagmad</th>\n",
              "      <th>fBodyBodyGyroJerkMagmax</th>\n",
              "      <th>fBodyBodyGyroJerkMagmin</th>\n",
              "      <th>fBodyBodyGyroJerkMagsma</th>\n",
              "      <th>fBodyBodyGyroJerkMagenergy</th>\n",
              "      <th>fBodyBodyGyroJerkMagiqr</th>\n",
              "      <th>fBodyBodyGyroJerkMagentropy</th>\n",
              "      <th>fBodyBodyGyroJerkMagmaxInds</th>\n",
              "      <th>fBodyBodyGyroJerkMagmeanFreq</th>\n",
              "      <th>fBodyBodyGyroJerkMagskewness</th>\n",
              "      <th>fBodyBodyGyroJerkMagkurtosis</th>\n",
              "      <th>angletBodyAccMeangravity</th>\n",
              "      <th>angletBodyAccJerkMeangravityMean</th>\n",
              "      <th>angletBodyGyroMeangravityMean</th>\n",
              "      <th>angletBodyGyroJerkMeangravityMean</th>\n",
              "      <th>angleXgravityMean</th>\n",
              "      <th>angleYgravityMean</th>\n",
              "      <th>angleZgravityMean</th>\n",
              "      <th>subject</th>\n",
              "      <th>Activity</th>\n",
              "      <th>ActivityName</th>\n",
              "    </tr>\n",
              "  </thead>\n",
              "  <tbody>\n",
              "    <tr>\n",
              "      <th>0</th>\n",
              "      <td>0.288585</td>\n",
              "      <td>-0.020294</td>\n",
              "      <td>-0.132905</td>\n",
              "      <td>-0.995279</td>\n",
              "      <td>-0.983111</td>\n",
              "      <td>-0.913526</td>\n",
              "      <td>-0.995112</td>\n",
              "      <td>-0.983185</td>\n",
              "      <td>-0.923527</td>\n",
              "      <td>-0.934724</td>\n",
              "      <td>-0.567378</td>\n",
              "      <td>-0.744413</td>\n",
              "      <td>0.852947</td>\n",
              "      <td>0.685845</td>\n",
              "      <td>0.814263</td>\n",
              "      <td>-0.965523</td>\n",
              "      <td>-0.999945</td>\n",
              "      <td>-0.999863</td>\n",
              "      <td>-0.994612</td>\n",
              "      <td>-0.994231</td>\n",
              "      <td>-0.987614</td>\n",
              "      <td>-0.943220</td>\n",
              "      <td>-0.407747</td>\n",
              "      <td>-0.679338</td>\n",
              "      <td>-0.602122</td>\n",
              "      <td>0.929294</td>\n",
              "      <td>-0.853011</td>\n",
              "      <td>0.359910</td>\n",
              "      <td>-0.058526</td>\n",
              "      <td>0.256892</td>\n",
              "      <td>-0.224848</td>\n",
              "      <td>0.264106</td>\n",
              "      <td>-0.095246</td>\n",
              "      <td>0.278851</td>\n",
              "      <td>-0.465085</td>\n",
              "      <td>0.491936</td>\n",
              "      <td>-0.190884</td>\n",
              "      <td>0.376314</td>\n",
              "      <td>0.435129</td>\n",
              "      <td>0.660790</td>\n",
              "      <td>...</td>\n",
              "      <td>-0.936508</td>\n",
              "      <td>0.346989</td>\n",
              "      <td>-0.516080</td>\n",
              "      <td>-0.802760</td>\n",
              "      <td>-0.980135</td>\n",
              "      <td>-0.961309</td>\n",
              "      <td>-0.973653</td>\n",
              "      <td>-0.952264</td>\n",
              "      <td>-0.989498</td>\n",
              "      <td>-0.980135</td>\n",
              "      <td>-0.999240</td>\n",
              "      <td>-0.992656</td>\n",
              "      <td>-0.701291</td>\n",
              "      <td>-1.000000</td>\n",
              "      <td>-0.128989</td>\n",
              "      <td>0.586156</td>\n",
              "      <td>0.374605</td>\n",
              "      <td>-0.991990</td>\n",
              "      <td>-0.990697</td>\n",
              "      <td>-0.989941</td>\n",
              "      <td>-0.992448</td>\n",
              "      <td>-0.991048</td>\n",
              "      <td>-0.991990</td>\n",
              "      <td>-0.999937</td>\n",
              "      <td>-0.990458</td>\n",
              "      <td>-0.871306</td>\n",
              "      <td>-1.000000</td>\n",
              "      <td>-0.074323</td>\n",
              "      <td>-0.298676</td>\n",
              "      <td>-0.710304</td>\n",
              "      <td>-0.112754</td>\n",
              "      <td>0.030400</td>\n",
              "      <td>-0.464761</td>\n",
              "      <td>-0.018446</td>\n",
              "      <td>-0.841247</td>\n",
              "      <td>0.179941</td>\n",
              "      <td>-0.058627</td>\n",
              "      <td>1</td>\n",
              "      <td>5</td>\n",
              "      <td>STANDING</td>\n",
              "    </tr>\n",
              "    <tr>\n",
              "      <th>1</th>\n",
              "      <td>0.278419</td>\n",
              "      <td>-0.016411</td>\n",
              "      <td>-0.123520</td>\n",
              "      <td>-0.998245</td>\n",
              "      <td>-0.975300</td>\n",
              "      <td>-0.960322</td>\n",
              "      <td>-0.998807</td>\n",
              "      <td>-0.974914</td>\n",
              "      <td>-0.957686</td>\n",
              "      <td>-0.943068</td>\n",
              "      <td>-0.557851</td>\n",
              "      <td>-0.818409</td>\n",
              "      <td>0.849308</td>\n",
              "      <td>0.685845</td>\n",
              "      <td>0.822637</td>\n",
              "      <td>-0.981930</td>\n",
              "      <td>-0.999991</td>\n",
              "      <td>-0.999788</td>\n",
              "      <td>-0.998405</td>\n",
              "      <td>-0.999150</td>\n",
              "      <td>-0.977866</td>\n",
              "      <td>-0.948225</td>\n",
              "      <td>-0.714892</td>\n",
              "      <td>-0.500930</td>\n",
              "      <td>-0.570979</td>\n",
              "      <td>0.611627</td>\n",
              "      <td>-0.329549</td>\n",
              "      <td>0.284213</td>\n",
              "      <td>0.284595</td>\n",
              "      <td>0.115705</td>\n",
              "      <td>-0.090963</td>\n",
              "      <td>0.294310</td>\n",
              "      <td>-0.281211</td>\n",
              "      <td>0.085988</td>\n",
              "      <td>-0.022153</td>\n",
              "      <td>-0.016657</td>\n",
              "      <td>-0.220643</td>\n",
              "      <td>-0.013429</td>\n",
              "      <td>-0.072692</td>\n",
              "      <td>0.579382</td>\n",
              "      <td>...</td>\n",
              "      <td>-0.841270</td>\n",
              "      <td>0.532061</td>\n",
              "      <td>-0.624871</td>\n",
              "      <td>-0.900160</td>\n",
              "      <td>-0.988296</td>\n",
              "      <td>-0.983322</td>\n",
              "      <td>-0.982659</td>\n",
              "      <td>-0.986321</td>\n",
              "      <td>-0.991829</td>\n",
              "      <td>-0.988296</td>\n",
              "      <td>-0.999811</td>\n",
              "      <td>-0.993979</td>\n",
              "      <td>-0.720683</td>\n",
              "      <td>-0.948718</td>\n",
              "      <td>-0.271958</td>\n",
              "      <td>-0.336310</td>\n",
              "      <td>-0.720015</td>\n",
              "      <td>-0.995854</td>\n",
              "      <td>-0.996399</td>\n",
              "      <td>-0.995442</td>\n",
              "      <td>-0.996866</td>\n",
              "      <td>-0.994440</td>\n",
              "      <td>-0.995854</td>\n",
              "      <td>-0.999981</td>\n",
              "      <td>-0.994544</td>\n",
              "      <td>-1.000000</td>\n",
              "      <td>-1.000000</td>\n",
              "      <td>0.158075</td>\n",
              "      <td>-0.595051</td>\n",
              "      <td>-0.861499</td>\n",
              "      <td>0.053477</td>\n",
              "      <td>-0.007435</td>\n",
              "      <td>-0.732626</td>\n",
              "      <td>0.703511</td>\n",
              "      <td>-0.844788</td>\n",
              "      <td>0.180289</td>\n",
              "      <td>-0.054317</td>\n",
              "      <td>1</td>\n",
              "      <td>5</td>\n",
              "      <td>STANDING</td>\n",
              "    </tr>\n",
              "    <tr>\n",
              "      <th>2</th>\n",
              "      <td>0.279653</td>\n",
              "      <td>-0.019467</td>\n",
              "      <td>-0.113462</td>\n",
              "      <td>-0.995380</td>\n",
              "      <td>-0.967187</td>\n",
              "      <td>-0.978944</td>\n",
              "      <td>-0.996520</td>\n",
              "      <td>-0.963668</td>\n",
              "      <td>-0.977469</td>\n",
              "      <td>-0.938692</td>\n",
              "      <td>-0.557851</td>\n",
              "      <td>-0.818409</td>\n",
              "      <td>0.843609</td>\n",
              "      <td>0.682401</td>\n",
              "      <td>0.839344</td>\n",
              "      <td>-0.983478</td>\n",
              "      <td>-0.999969</td>\n",
              "      <td>-0.999660</td>\n",
              "      <td>-0.999470</td>\n",
              "      <td>-0.997130</td>\n",
              "      <td>-0.964810</td>\n",
              "      <td>-0.974675</td>\n",
              "      <td>-0.592235</td>\n",
              "      <td>-0.485821</td>\n",
              "      <td>-0.570979</td>\n",
              "      <td>0.273025</td>\n",
              "      <td>-0.086309</td>\n",
              "      <td>0.337202</td>\n",
              "      <td>-0.164739</td>\n",
              "      <td>0.017150</td>\n",
              "      <td>-0.074507</td>\n",
              "      <td>0.342256</td>\n",
              "      <td>-0.332564</td>\n",
              "      <td>0.239281</td>\n",
              "      <td>-0.136204</td>\n",
              "      <td>0.173863</td>\n",
              "      <td>-0.299493</td>\n",
              "      <td>-0.124698</td>\n",
              "      <td>-0.181105</td>\n",
              "      <td>0.608900</td>\n",
              "      <td>...</td>\n",
              "      <td>-0.904762</td>\n",
              "      <td>0.660795</td>\n",
              "      <td>-0.724697</td>\n",
              "      <td>-0.928539</td>\n",
              "      <td>-0.989255</td>\n",
              "      <td>-0.986028</td>\n",
              "      <td>-0.984274</td>\n",
              "      <td>-0.990979</td>\n",
              "      <td>-0.995703</td>\n",
              "      <td>-0.989255</td>\n",
              "      <td>-0.999854</td>\n",
              "      <td>-0.993238</td>\n",
              "      <td>-0.736521</td>\n",
              "      <td>-0.794872</td>\n",
              "      <td>-0.212728</td>\n",
              "      <td>-0.535352</td>\n",
              "      <td>-0.871914</td>\n",
              "      <td>-0.995031</td>\n",
              "      <td>-0.995127</td>\n",
              "      <td>-0.994640</td>\n",
              "      <td>-0.996060</td>\n",
              "      <td>-0.995866</td>\n",
              "      <td>-0.995031</td>\n",
              "      <td>-0.999973</td>\n",
              "      <td>-0.993755</td>\n",
              "      <td>-1.000000</td>\n",
              "      <td>-0.555556</td>\n",
              "      <td>0.414503</td>\n",
              "      <td>-0.390748</td>\n",
              "      <td>-0.760104</td>\n",
              "      <td>-0.118559</td>\n",
              "      <td>0.177899</td>\n",
              "      <td>0.100699</td>\n",
              "      <td>0.808529</td>\n",
              "      <td>-0.848933</td>\n",
              "      <td>0.180637</td>\n",
              "      <td>-0.049118</td>\n",
              "      <td>1</td>\n",
              "      <td>5</td>\n",
              "      <td>STANDING</td>\n",
              "    </tr>\n",
              "    <tr>\n",
              "      <th>3</th>\n",
              "      <td>0.279174</td>\n",
              "      <td>-0.026201</td>\n",
              "      <td>-0.123283</td>\n",
              "      <td>-0.996091</td>\n",
              "      <td>-0.983403</td>\n",
              "      <td>-0.990675</td>\n",
              "      <td>-0.997099</td>\n",
              "      <td>-0.982750</td>\n",
              "      <td>-0.989302</td>\n",
              "      <td>-0.938692</td>\n",
              "      <td>-0.576159</td>\n",
              "      <td>-0.829711</td>\n",
              "      <td>0.843609</td>\n",
              "      <td>0.682401</td>\n",
              "      <td>0.837869</td>\n",
              "      <td>-0.986093</td>\n",
              "      <td>-0.999976</td>\n",
              "      <td>-0.999736</td>\n",
              "      <td>-0.999504</td>\n",
              "      <td>-0.997180</td>\n",
              "      <td>-0.983799</td>\n",
              "      <td>-0.986007</td>\n",
              "      <td>-0.627446</td>\n",
              "      <td>-0.850930</td>\n",
              "      <td>-0.911872</td>\n",
              "      <td>0.061436</td>\n",
              "      <td>0.074840</td>\n",
              "      <td>0.198204</td>\n",
              "      <td>-0.264307</td>\n",
              "      <td>0.072545</td>\n",
              "      <td>-0.155320</td>\n",
              "      <td>0.323154</td>\n",
              "      <td>-0.170813</td>\n",
              "      <td>0.294938</td>\n",
              "      <td>-0.306081</td>\n",
              "      <td>0.482148</td>\n",
              "      <td>-0.470129</td>\n",
              "      <td>-0.305693</td>\n",
              "      <td>-0.362654</td>\n",
              "      <td>0.507459</td>\n",
              "      <td>...</td>\n",
              "      <td>1.000000</td>\n",
              "      <td>0.678921</td>\n",
              "      <td>-0.701131</td>\n",
              "      <td>-0.909639</td>\n",
              "      <td>-0.989413</td>\n",
              "      <td>-0.987836</td>\n",
              "      <td>-0.986850</td>\n",
              "      <td>-0.986749</td>\n",
              "      <td>-0.996199</td>\n",
              "      <td>-0.989413</td>\n",
              "      <td>-0.999876</td>\n",
              "      <td>-0.989136</td>\n",
              "      <td>-0.720891</td>\n",
              "      <td>-1.000000</td>\n",
              "      <td>-0.035684</td>\n",
              "      <td>-0.230091</td>\n",
              "      <td>-0.511217</td>\n",
              "      <td>-0.995221</td>\n",
              "      <td>-0.995237</td>\n",
              "      <td>-0.995722</td>\n",
              "      <td>-0.995273</td>\n",
              "      <td>-0.995732</td>\n",
              "      <td>-0.995221</td>\n",
              "      <td>-0.999974</td>\n",
              "      <td>-0.995226</td>\n",
              "      <td>-0.955696</td>\n",
              "      <td>-0.936508</td>\n",
              "      <td>0.404573</td>\n",
              "      <td>-0.117290</td>\n",
              "      <td>-0.482845</td>\n",
              "      <td>-0.036788</td>\n",
              "      <td>-0.012892</td>\n",
              "      <td>0.640011</td>\n",
              "      <td>-0.485366</td>\n",
              "      <td>-0.848649</td>\n",
              "      <td>0.181935</td>\n",
              "      <td>-0.047663</td>\n",
              "      <td>1</td>\n",
              "      <td>5</td>\n",
              "      <td>STANDING</td>\n",
              "    </tr>\n",
              "    <tr>\n",
              "      <th>4</th>\n",
              "      <td>0.276629</td>\n",
              "      <td>-0.016570</td>\n",
              "      <td>-0.115362</td>\n",
              "      <td>-0.998139</td>\n",
              "      <td>-0.980817</td>\n",
              "      <td>-0.990482</td>\n",
              "      <td>-0.998321</td>\n",
              "      <td>-0.979672</td>\n",
              "      <td>-0.990441</td>\n",
              "      <td>-0.942469</td>\n",
              "      <td>-0.569174</td>\n",
              "      <td>-0.824705</td>\n",
              "      <td>0.849095</td>\n",
              "      <td>0.683250</td>\n",
              "      <td>0.837869</td>\n",
              "      <td>-0.992653</td>\n",
              "      <td>-0.999991</td>\n",
              "      <td>-0.999856</td>\n",
              "      <td>-0.999757</td>\n",
              "      <td>-0.998004</td>\n",
              "      <td>-0.981232</td>\n",
              "      <td>-0.991325</td>\n",
              "      <td>-0.786553</td>\n",
              "      <td>-0.559477</td>\n",
              "      <td>-0.761434</td>\n",
              "      <td>0.313276</td>\n",
              "      <td>-0.131208</td>\n",
              "      <td>0.191161</td>\n",
              "      <td>0.086904</td>\n",
              "      <td>0.257615</td>\n",
              "      <td>-0.272505</td>\n",
              "      <td>0.434728</td>\n",
              "      <td>-0.315375</td>\n",
              "      <td>0.439744</td>\n",
              "      <td>-0.269069</td>\n",
              "      <td>0.179414</td>\n",
              "      <td>-0.088952</td>\n",
              "      <td>-0.155804</td>\n",
              "      <td>-0.189763</td>\n",
              "      <td>0.599213</td>\n",
              "      <td>...</td>\n",
              "      <td>-1.000000</td>\n",
              "      <td>0.559058</td>\n",
              "      <td>-0.528901</td>\n",
              "      <td>-0.858933</td>\n",
              "      <td>-0.991433</td>\n",
              "      <td>-0.989059</td>\n",
              "      <td>-0.987744</td>\n",
              "      <td>-0.991462</td>\n",
              "      <td>-0.998353</td>\n",
              "      <td>-0.991433</td>\n",
              "      <td>-0.999902</td>\n",
              "      <td>-0.989321</td>\n",
              "      <td>-0.763372</td>\n",
              "      <td>-0.897436</td>\n",
              "      <td>-0.273582</td>\n",
              "      <td>-0.510282</td>\n",
              "      <td>-0.830702</td>\n",
              "      <td>-0.995093</td>\n",
              "      <td>-0.995465</td>\n",
              "      <td>-0.995279</td>\n",
              "      <td>-0.995609</td>\n",
              "      <td>-0.997418</td>\n",
              "      <td>-0.995093</td>\n",
              "      <td>-0.999974</td>\n",
              "      <td>-0.995487</td>\n",
              "      <td>-1.000000</td>\n",
              "      <td>-0.936508</td>\n",
              "      <td>0.087753</td>\n",
              "      <td>-0.351471</td>\n",
              "      <td>-0.699205</td>\n",
              "      <td>0.123320</td>\n",
              "      <td>0.122542</td>\n",
              "      <td>0.693578</td>\n",
              "      <td>-0.615971</td>\n",
              "      <td>-0.847865</td>\n",
              "      <td>0.185151</td>\n",
              "      <td>-0.043892</td>\n",
              "      <td>1</td>\n",
              "      <td>5</td>\n",
              "      <td>STANDING</td>\n",
              "    </tr>\n",
              "  </tbody>\n",
              "</table>\n",
              "<p>5 rows × 564 columns</p>\n",
              "</div>"
            ],
            "text/plain": [
              "   tBodyAccmeanX  tBodyAccmeanY  tBodyAccmeanZ  ...  subject  Activity  ActivityName\n",
              "0       0.288585      -0.020294      -0.132905  ...        1         5      STANDING\n",
              "1       0.278419      -0.016411      -0.123520  ...        1         5      STANDING\n",
              "2       0.279653      -0.019467      -0.113462  ...        1         5      STANDING\n",
              "3       0.279174      -0.026201      -0.123283  ...        1         5      STANDING\n",
              "4       0.276629      -0.016570      -0.115362  ...        1         5      STANDING\n",
              "\n",
              "[5 rows x 564 columns]"
            ]
          },
          "metadata": {
            "tags": []
          },
          "execution_count": 156
        }
      ]
    },
    {
      "cell_type": "code",
      "metadata": {
        "colab": {
          "base_uri": "https://localhost:8080/",
          "height": 129
        },
        "id": "xkCLubZhq8wq",
        "outputId": "ef0acfff-3ff1-45bc-b0e1-3a985383575d"
      },
      "source": [
        "train.sample()"
      ],
      "execution_count": null,
      "outputs": [
        {
          "output_type": "execute_result",
          "data": {
            "text/html": [
              "<div>\n",
              "<style scoped>\n",
              "    .dataframe tbody tr th:only-of-type {\n",
              "        vertical-align: middle;\n",
              "    }\n",
              "\n",
              "    .dataframe tbody tr th {\n",
              "        vertical-align: top;\n",
              "    }\n",
              "\n",
              "    .dataframe thead th {\n",
              "        text-align: right;\n",
              "    }\n",
              "</style>\n",
              "<table border=\"1\" class=\"dataframe\">\n",
              "  <thead>\n",
              "    <tr style=\"text-align: right;\">\n",
              "      <th></th>\n",
              "      <th>tBodyAccmeanX</th>\n",
              "      <th>tBodyAccmeanY</th>\n",
              "      <th>tBodyAccmeanZ</th>\n",
              "      <th>tBodyAccstdX</th>\n",
              "      <th>tBodyAccstdY</th>\n",
              "      <th>tBodyAccstdZ</th>\n",
              "      <th>tBodyAccmadX</th>\n",
              "      <th>tBodyAccmadY</th>\n",
              "      <th>tBodyAccmadZ</th>\n",
              "      <th>tBodyAccmaxX</th>\n",
              "      <th>tBodyAccmaxY</th>\n",
              "      <th>tBodyAccmaxZ</th>\n",
              "      <th>tBodyAccminX</th>\n",
              "      <th>tBodyAccminY</th>\n",
              "      <th>tBodyAccminZ</th>\n",
              "      <th>tBodyAccsma</th>\n",
              "      <th>tBodyAccenergyX</th>\n",
              "      <th>tBodyAccenergyY</th>\n",
              "      <th>tBodyAccenergyZ</th>\n",
              "      <th>tBodyAcciqrX</th>\n",
              "      <th>tBodyAcciqrY</th>\n",
              "      <th>tBodyAcciqrZ</th>\n",
              "      <th>tBodyAccentropyX</th>\n",
              "      <th>tBodyAccentropyY</th>\n",
              "      <th>tBodyAccentropyZ</th>\n",
              "      <th>tBodyAccarCoeffX1</th>\n",
              "      <th>tBodyAccarCoeffX2</th>\n",
              "      <th>tBodyAccarCoeffX3</th>\n",
              "      <th>tBodyAccarCoeffX4</th>\n",
              "      <th>tBodyAccarCoeffY1</th>\n",
              "      <th>tBodyAccarCoeffY2</th>\n",
              "      <th>tBodyAccarCoeffY3</th>\n",
              "      <th>tBodyAccarCoeffY4</th>\n",
              "      <th>tBodyAccarCoeffZ1</th>\n",
              "      <th>tBodyAccarCoeffZ2</th>\n",
              "      <th>tBodyAccarCoeffZ3</th>\n",
              "      <th>tBodyAccarCoeffZ4</th>\n",
              "      <th>tBodyAcccorrelationXY</th>\n",
              "      <th>tBodyAcccorrelationXZ</th>\n",
              "      <th>tBodyAcccorrelationYZ</th>\n",
              "      <th>...</th>\n",
              "      <th>fBodyBodyAccJerkMagmaxInds</th>\n",
              "      <th>fBodyBodyAccJerkMagmeanFreq</th>\n",
              "      <th>fBodyBodyAccJerkMagskewness</th>\n",
              "      <th>fBodyBodyAccJerkMagkurtosis</th>\n",
              "      <th>fBodyBodyGyroMagmean</th>\n",
              "      <th>fBodyBodyGyroMagstd</th>\n",
              "      <th>fBodyBodyGyroMagmad</th>\n",
              "      <th>fBodyBodyGyroMagmax</th>\n",
              "      <th>fBodyBodyGyroMagmin</th>\n",
              "      <th>fBodyBodyGyroMagsma</th>\n",
              "      <th>fBodyBodyGyroMagenergy</th>\n",
              "      <th>fBodyBodyGyroMagiqr</th>\n",
              "      <th>fBodyBodyGyroMagentropy</th>\n",
              "      <th>fBodyBodyGyroMagmaxInds</th>\n",
              "      <th>fBodyBodyGyroMagmeanFreq</th>\n",
              "      <th>fBodyBodyGyroMagskewness</th>\n",
              "      <th>fBodyBodyGyroMagkurtosis</th>\n",
              "      <th>fBodyBodyGyroJerkMagmean</th>\n",
              "      <th>fBodyBodyGyroJerkMagstd</th>\n",
              "      <th>fBodyBodyGyroJerkMagmad</th>\n",
              "      <th>fBodyBodyGyroJerkMagmax</th>\n",
              "      <th>fBodyBodyGyroJerkMagmin</th>\n",
              "      <th>fBodyBodyGyroJerkMagsma</th>\n",
              "      <th>fBodyBodyGyroJerkMagenergy</th>\n",
              "      <th>fBodyBodyGyroJerkMagiqr</th>\n",
              "      <th>fBodyBodyGyroJerkMagentropy</th>\n",
              "      <th>fBodyBodyGyroJerkMagmaxInds</th>\n",
              "      <th>fBodyBodyGyroJerkMagmeanFreq</th>\n",
              "      <th>fBodyBodyGyroJerkMagskewness</th>\n",
              "      <th>fBodyBodyGyroJerkMagkurtosis</th>\n",
              "      <th>angletBodyAccMeangravity</th>\n",
              "      <th>angletBodyAccJerkMeangravityMean</th>\n",
              "      <th>angletBodyGyroMeangravityMean</th>\n",
              "      <th>angletBodyGyroJerkMeangravityMean</th>\n",
              "      <th>angleXgravityMean</th>\n",
              "      <th>angleYgravityMean</th>\n",
              "      <th>angleZgravityMean</th>\n",
              "      <th>subject</th>\n",
              "      <th>Activity</th>\n",
              "      <th>ActivityName</th>\n",
              "    </tr>\n",
              "  </thead>\n",
              "  <tbody>\n",
              "    <tr>\n",
              "      <th>544</th>\n",
              "      <td>0.272677</td>\n",
              "      <td>-0.017661</td>\n",
              "      <td>-0.128059</td>\n",
              "      <td>-0.979699</td>\n",
              "      <td>-0.929319</td>\n",
              "      <td>-0.940014</td>\n",
              "      <td>-0.985231</td>\n",
              "      <td>-0.934297</td>\n",
              "      <td>-0.939896</td>\n",
              "      <td>-0.925928</td>\n",
              "      <td>-0.531183</td>\n",
              "      <td>-0.798644</td>\n",
              "      <td>0.804973</td>\n",
              "      <td>0.657593</td>\n",
              "      <td>0.804574</td>\n",
              "      <td>-0.956953</td>\n",
              "      <td>-0.999703</td>\n",
              "      <td>-0.99878</td>\n",
              "      <td>-0.996998</td>\n",
              "      <td>-0.990931</td>\n",
              "      <td>-0.958456</td>\n",
              "      <td>-0.944474</td>\n",
              "      <td>-0.434813</td>\n",
              "      <td>-0.303664</td>\n",
              "      <td>-0.524677</td>\n",
              "      <td>-0.184672</td>\n",
              "      <td>0.045155</td>\n",
              "      <td>0.11018</td>\n",
              "      <td>0.086964</td>\n",
              "      <td>-0.157183</td>\n",
              "      <td>0.079194</td>\n",
              "      <td>0.080748</td>\n",
              "      <td>0.086146</td>\n",
              "      <td>0.12558</td>\n",
              "      <td>-0.18523</td>\n",
              "      <td>0.268242</td>\n",
              "      <td>-0.206477</td>\n",
              "      <td>0.067378</td>\n",
              "      <td>-0.422955</td>\n",
              "      <td>-0.037135</td>\n",
              "      <td>...</td>\n",
              "      <td>-0.873016</td>\n",
              "      <td>0.349099</td>\n",
              "      <td>-0.826038</td>\n",
              "      <td>-0.972133</td>\n",
              "      <td>-0.926054</td>\n",
              "      <td>-0.901067</td>\n",
              "      <td>-0.898583</td>\n",
              "      <td>-0.906729</td>\n",
              "      <td>-0.968821</td>\n",
              "      <td>-0.926054</td>\n",
              "      <td>-0.994696</td>\n",
              "      <td>-0.960565</td>\n",
              "      <td>-0.242824</td>\n",
              "      <td>-0.948718</td>\n",
              "      <td>-0.319556</td>\n",
              "      <td>-0.192463</td>\n",
              "      <td>-0.563555</td>\n",
              "      <td>-0.973395</td>\n",
              "      <td>-0.972895</td>\n",
              "      <td>-0.970213</td>\n",
              "      <td>-0.974866</td>\n",
              "      <td>-0.991671</td>\n",
              "      <td>-0.973395</td>\n",
              "      <td>-0.999541</td>\n",
              "      <td>-0.975474</td>\n",
              "      <td>-0.618946</td>\n",
              "      <td>-0.968254</td>\n",
              "      <td>-0.134544</td>\n",
              "      <td>-0.256129</td>\n",
              "      <td>-0.619731</td>\n",
              "      <td>0.056245</td>\n",
              "      <td>-0.335719</td>\n",
              "      <td>-0.622993</td>\n",
              "      <td>-0.368906</td>\n",
              "      <td>-0.709631</td>\n",
              "      <td>0.294431</td>\n",
              "      <td>0.059987</td>\n",
              "      <td>3</td>\n",
              "      <td>5</td>\n",
              "      <td>STANDING</td>\n",
              "    </tr>\n",
              "  </tbody>\n",
              "</table>\n",
              "<p>1 rows × 564 columns</p>\n",
              "</div>"
            ],
            "text/plain": [
              "     tBodyAccmeanX  tBodyAccmeanY  ...  Activity  ActivityName\n",
              "544       0.272677      -0.017661  ...         5      STANDING\n",
              "\n",
              "[1 rows x 564 columns]"
            ]
          },
          "metadata": {
            "tags": []
          },
          "execution_count": 157
        }
      ]
    },
    {
      "cell_type": "markdown",
      "metadata": {
        "id": "NM-YS2Z2rFa-"
      },
      "source": [
        "#Drop last three columns and keep 'ActivityName' column only."
      ]
    },
    {
      "cell_type": "code",
      "metadata": {
        "id": "4tRHmdzRrMww"
      },
      "source": [
        "X_train = train.drop(['subject','Activity','ActivityName'],axis=1)\n",
        "y_train = train['ActivityName']"
      ],
      "execution_count": null,
      "outputs": []
    },
    {
      "cell_type": "code",
      "metadata": {
        "colab": {
          "base_uri": "https://localhost:8080/"
        },
        "id": "5dIoQ-42rkfT",
        "outputId": "fff1bf22-3de8-4e1e-9c14-7d5c1361c693"
      },
      "source": [
        "y_train.head()"
      ],
      "execution_count": null,
      "outputs": [
        {
          "output_type": "execute_result",
          "data": {
            "text/plain": [
              "0    STANDING\n",
              "1    STANDING\n",
              "2    STANDING\n",
              "3    STANDING\n",
              "4    STANDING\n",
              "Name: ActivityName, dtype: object"
            ]
          },
          "metadata": {
            "tags": []
          },
          "execution_count": 159
        }
      ]
    },
    {
      "cell_type": "code",
      "metadata": {
        "id": "ja-yiyrkrySs"
      },
      "source": [
        "X_test = test.drop(['subject','Activity','ActivityName'],axis=1)\n",
        "y_test = test.ActivityName"
      ],
      "execution_count": null,
      "outputs": []
    },
    {
      "cell_type": "markdown",
      "metadata": {
        "id": "iCvF_hDyr8pH"
      },
      "source": [
        "#Lets model our data"
      ]
    },
    {
      "cell_type": "markdown",
      "metadata": {
        "id": "aBeiSasDr-s0"
      },
      "source": [
        "#labels that are useful in plotting confusion matrix"
      ]
    },
    {
      "cell_type": "code",
      "metadata": {
        "id": "4vZ4_G7QsCTG"
      },
      "source": [
        "labels=['LAYING', 'SITTING','STANDING','WALKING','WALKING_DOWNSTAIRS','WALKING_UPSTAIRS']"
      ],
      "execution_count": null,
      "outputs": []
    },
    {
      "cell_type": "markdown",
      "metadata": {
        "id": "hYa5MMRLsTOU"
      },
      "source": [
        "##Function to plot the confusion matrix"
      ]
    },
    {
      "cell_type": "code",
      "metadata": {
        "id": "ywOFZzrBsYBY"
      },
      "source": [
        "import itertools\n",
        "import numpy as np\n",
        "import matplotlib.pyplot as plt\n",
        "from sklearn.metrics import confusion_matrix\n",
        "plt.rcParams[\"font.family\"] = 'DejaVu Sans'\n",
        "\n",
        "def plot_confusion_matrix(cm, classes,\n",
        "                          normalize=False,\n",
        "                          title='Confusion matrix',\n",
        "                          cmap=plt.cm.Blues):\n",
        "    if normalize:\n",
        "        cm = cm.astype('float') / cm.sum(axis=1)[:, np.newaxis]\n",
        "\n",
        "    plt.imshow(cm, interpolation='nearest', cmap=cmap)\n",
        "    plt.title(title)\n",
        "    plt.colorbar()\n",
        "    tick_marks = np.arange(len(classes))\n",
        "    plt.xticks(tick_marks, classes, rotation=90)\n",
        "    plt.yticks(tick_marks, classes)\n",
        "\n",
        "    fmt = '.2f' if normalize else 'd'\n",
        "    thresh = cm.max() / 2.\n",
        "    for i, j in itertools.product(range(cm.shape[0]), range(cm.shape[1])):\n",
        "        plt.text(j, i, format(cm[i, j], fmt),\n",
        "                 horizontalalignment=\"center\",\n",
        "                 color=\"white\" if cm[i, j] > thresh else \"black\")\n",
        "\n",
        "    plt.tight_layout()\n",
        "    plt.ylabel('True label')\n",
        "    plt.xlabel('Predicted label')"
      ],
      "execution_count": null,
      "outputs": []
    },
    {
      "cell_type": "markdown",
      "metadata": {
        "id": "0e7I9NLAuLBQ"
      },
      "source": [
        "#Generic function to run any model specified"
      ]
    },
    {
      "cell_type": "code",
      "metadata": {
        "id": "xcePsfXMuUv8"
      },
      "source": [
        "from datetime import datetime\n",
        "def perform_model(model,X_train,y_train,X_test,y_test,\\\n",
        "                  class_labels,cm_normalize=True,\\\n",
        "                  print_cm=True,cm_cmap=plt.cm.Greens):\n",
        "  # used to store results at various place\n",
        "  results = dict()\n",
        "\n",
        "  # training\n",
        "  train_start_time = datetime.now()\n",
        "  print('training the model..')\n",
        "  model.fit(X_train,y_train)\n",
        "  print('Done')\n",
        "  train_end_time= datetime.now()\n",
        "  results['training_time'] = train_end_time -train_start_time\n",
        "  print(results['training_time'])\n",
        "\n",
        "  # predict on test data\n",
        "  print('Predicting test data')\n",
        "  test_start_time = datetime.now()\n",
        "  y_pred = model.predict(X_test)\n",
        "  test_end_time = datetime.now()\n",
        "  print('Done')\n",
        "  results['testing_time'] = test_end_time-test_start_time\n",
        "  print(results['testing_time'])\n",
        "  results['predicted']= y_pred\n",
        "\n",
        "  # Accuracy\n",
        "  print('Accuracy')\n",
        "  accuracy = metrics.accuracy_score(y_true= y_test,y_pred=y_pred)\n",
        "  results['accuracy']  = accuracy\n",
        "  print('accuracy')\n",
        "\n",
        "  # Confusion Matrix\n",
        "  print('Confusion Matrix')\n",
        "  cm = metrics.confusion_matrix(y_test,y_pred)\n",
        "  results['confusion_matrix']  = cm\n",
        "\n",
        "  if print_cm:\n",
        "    print(cm)\n",
        "\n",
        "  plt.figure(figsize=(8,8))\n",
        "  plt.grid(b=False)\n",
        "  plot_confusion_matrix(cm,classes=class_labels,normalize=True,\\\n",
        "                        title='Normalized confusion matrix',cmap=cm_cmap)\n",
        "  plt.show()\n",
        "\n",
        "  # Classification Report\n",
        "  print('Classification Report')\n",
        "  classification_report = metrics.classification_report(y_test,y_pred)\n",
        "  results['classification_report'] = classification_report\n",
        "  print(classification_report)\n",
        "\n",
        "  results ['model'] = model\n",
        "\n",
        "  return results"
      ],
      "execution_count": null,
      "outputs": []
    },
    {
      "cell_type": "markdown",
      "metadata": {
        "id": "OYwf7skDwprN"
      },
      "source": [
        "#Method to print the gridsearch Attributes"
      ]
    },
    {
      "cell_type": "code",
      "metadata": {
        "id": "9oG1NMQ0wtj8"
      },
      "source": [
        "def print_grid_search_attributes(model):\n",
        "  print('Best Estimator')\n",
        "  print(model.best_estimator_)\n",
        "\n",
        "  print('Best parameters')\n",
        "  print(model.best_params_)\n",
        "\n",
        "  print('No of Crossvalidation sets')\n",
        "  print(model.n_splits_)\n",
        "\n",
        "  print('Best Score')\n",
        "  print(model.best_score_)"
      ],
      "execution_count": null,
      "outputs": []
    },
    {
      "cell_type": "markdown",
      "metadata": {
        "id": "PMMV3JOUxVO9"
      },
      "source": [
        "#1. Logistic Regression with Grid Search"
      ]
    },
    {
      "cell_type": "code",
      "metadata": {
        "id": "YQEkDm21xYqO"
      },
      "source": [
        "from sklearn import linear_model\n",
        "from sklearn import metrics\n",
        "\n",
        "from sklearn.model_selection import GridSearchCV"
      ],
      "execution_count": null,
      "outputs": []
    },
    {
      "cell_type": "code",
      "metadata": {
        "colab": {
          "base_uri": "https://localhost:8080/",
          "height": 1000
        },
        "id": "jlGjBkJtxlAk",
        "outputId": "63643014-081c-48da-f8de-812394a5186f"
      },
      "source": [
        "parameters = {'C':[0.01,0.1,1,10,20,30],'penalty':['l2','l1']}\n",
        "log_reg = linear_model.LogisticRegression()\n",
        "log_reg_grid = GridSearchCV(log_reg,param_grid=parameters,cv=3,verbose=1,n_jobs=-1)\n",
        "log_reg_grid_results = perform_model(log_reg_grid,X_train,y_train,X_test,y_test,class_labels=labels)"
      ],
      "execution_count": null,
      "outputs": [
        {
          "output_type": "stream",
          "text": [
            "training the model..\n",
            "Fitting 3 folds for each of 12 candidates, totalling 36 fits\n"
          ],
          "name": "stdout"
        },
        {
          "output_type": "stream",
          "text": [
            "[Parallel(n_jobs=-1)]: Using backend LokyBackend with 2 concurrent workers.\n",
            "[Parallel(n_jobs=-1)]: Done  36 out of  36 | elapsed:   25.4s finished\n",
            "/usr/local/lib/python3.7/dist-packages/sklearn/linear_model/_logistic.py:940: ConvergenceWarning: lbfgs failed to converge (status=1):\n",
            "STOP: TOTAL NO. of ITERATIONS REACHED LIMIT.\n",
            "\n",
            "Increase the number of iterations (max_iter) or scale the data as shown in:\n",
            "    https://scikit-learn.org/stable/modules/preprocessing.html\n",
            "Please also refer to the documentation for alternative solver options:\n",
            "    https://scikit-learn.org/stable/modules/linear_model.html#logistic-regression\n",
            "  extra_warning_msg=_LOGISTIC_SOLVER_CONVERGENCE_MSG)\n"
          ],
          "name": "stderr"
        },
        {
          "output_type": "stream",
          "text": [
            "Done\n",
            "0:00:29.184388\n",
            "Predicting test data\n",
            "Done\n",
            "0:00:00.012054\n",
            "Accuracy\n",
            "accuracy\n",
            "Confusion Matrix\n",
            "[[537   0   0   0   0   0]\n",
            " [  0 429  59   0   0   3]\n",
            " [  0  15 517   0   0   0]\n",
            " [  0   0   0 492   3   1]\n",
            " [  0   0   0   4 403  13]\n",
            " [  0   0   0  22   1 448]]\n"
          ],
          "name": "stdout"
        },
        {
          "output_type": "display_data",
          "data": {
            "image/png": "[encoded data removed]",
            "text/plain": [
              "<Figure size 576x576 with 2 Axes>"
            ]
          },
          "metadata": {
            "tags": [],
            "needs_background": "light"
          }
        },
        {
          "output_type": "stream",
          "text": [
            "Classification Report\n",
            "                    precision    recall  f1-score   support\n",
            "\n",
            "            LAYING       1.00      1.00      1.00       537\n",
            "           SITTING       0.97      0.87      0.92       491\n",
            "          STANDING       0.90      0.97      0.93       532\n",
            "           WALKING       0.95      0.99      0.97       496\n",
            "WALKING_DOWNSTAIRS       0.99      0.96      0.97       420\n",
            "  WALKING_UPSTAIRS       0.96      0.95      0.96       471\n",
            "\n",
            "          accuracy                           0.96      2947\n",
            "         macro avg       0.96      0.96      0.96      2947\n",
            "      weighted avg       0.96      0.96      0.96      2947\n",
            "\n"
          ],
          "name": "stdout"
        }
      ]
    },
    {
      "cell_type": "code",
      "metadata": {
        "colab": {
          "base_uri": "https://localhost:8080/",
          "height": 576
        },
        "id": "X_Sx_NCCPJ7Z",
        "outputId": "b8ad1005-f1cf-45d1-f4c5-686e174a2441"
      },
      "source": [
        "plt.figure(figsize = (8,8))\n",
        "plt.grid(b=False)\n",
        "plot_confusion_matrix(log_reg_grid_results['confusion_matrix'], classes = labels, cmap = plt.cm.Greens,)"
      ],
      "execution_count": null,
      "outputs": [
        {
          "output_type": "display_data",
          "data": {
            "image/png": "[encoded data removed]",
            "text/plain": [
              "<Figure size 576x576 with 2 Axes>"
            ]
          },
          "metadata": {
            "tags": [],
            "needs_background": "light"
          }
        }
      ]
    },
    {
      "cell_type": "code",
      "metadata": {
        "colab": {
          "base_uri": "https://localhost:8080/"
        },
        "id": "Zde5rHTwQLk0",
        "outputId": "7fc4ef34-29ad-4930-fa00-59f0216e6b3f"
      },
      "source": [
        "\n",
        "# observe the attributes of the model \n",
        "print_grid_search_attributes(log_reg_grid_results['model'])\n"
      ],
      "execution_count": null,
      "outputs": [
        {
          "output_type": "stream",
          "text": [
            "Best Estimator\n",
            "LogisticRegression(C=1, class_weight=None, dual=False, fit_intercept=True,\n",
            "                   intercept_scaling=1, l1_ratio=None, max_iter=100,\n",
            "                   multi_class='auto', n_jobs=None, penalty='l2',\n",
            "                   random_state=None, solver='lbfgs', tol=0.0001, verbose=0,\n",
            "                   warm_start=False)\n",
            "Best parameters\n",
            "{'C': 1, 'penalty': 'l2'}\n",
            "No of Crossvalidation sets\n",
            "3\n",
            "Best Score\n",
            "0.9358015748118914\n"
          ],
          "name": "stdout"
        }
      ]
    },
    {
      "cell_type": "markdown",
      "metadata": {
        "id": "QXwwCUPdSDSD"
      },
      "source": [
        "#Linear SVC with parameter tuning using Grid Search"
      ]
    },
    {
      "cell_type": "code",
      "metadata": {
        "colab": {
          "base_uri": "https://localhost:8080/",
          "height": 1000
        },
        "id": "92tKeX7ASKu2",
        "outputId": "a6843eef-4a3d-4c3c-ceda-04bc9c0f3281"
      },
      "source": [
        "from sklearn.svm import LinearSVC\n",
        "\n",
        "parameters = {'C' : [0.125, 0.5, 1, 2, 8, 16]}\n",
        "lr_svc = LinearSVC(tol = 0.00005)\n",
        "lr_svc_grid = GridSearchCV(lr_svc, param_grid = parameters, n_jobs = 1, verbose = 1)\n",
        "lr_svc_grid_results = perform_model(lr_svc_grid, X_train, y_train, X_test, y_test, class_labels = labels)"
      ],
      "execution_count": null,
      "outputs": [
        {
          "output_type": "stream",
          "text": [
            "training the model..\n",
            "Fitting 5 folds for each of 6 candidates, totalling 30 fits\n"
          ],
          "name": "stdout"
        },
        {
          "output_type": "stream",
          "text": [
            "[Parallel(n_jobs=1)]: Using backend SequentialBackend with 1 concurrent workers.\n",
            "/usr/local/lib/python3.7/dist-packages/sklearn/svm/_base.py:947: ConvergenceWarning: Liblinear failed to converge, increase the number of iterations.\n",
            "  \"the number of iterations.\", ConvergenceWarning)\n",
            "/usr/local/lib/python3.7/dist-packages/sklearn/svm/_base.py:947: ConvergenceWarning: Liblinear failed to converge, increase the number of iterations.\n",
            "  \"the number of iterations.\", ConvergenceWarning)\n",
            "/usr/local/lib/python3.7/dist-packages/sklearn/svm/_base.py:947: ConvergenceWarning: Liblinear failed to converge, increase the number of iterations.\n",
            "  \"the number of iterations.\", ConvergenceWarning)\n",
            "/usr/local/lib/python3.7/dist-packages/sklearn/svm/_base.py:947: ConvergenceWarning: Liblinear failed to converge, increase the number of iterations.\n",
            "  \"the number of iterations.\", ConvergenceWarning)\n",
            "/usr/local/lib/python3.7/dist-packages/sklearn/svm/_base.py:947: ConvergenceWarning: Liblinear failed to converge, increase the number of iterations.\n",
            "  \"the number of iterations.\", ConvergenceWarning)\n",
            "/usr/local/lib/python3.7/dist-packages/sklearn/svm/_base.py:947: ConvergenceWarning: Liblinear failed to converge, increase the number of iterations.\n",
            "  \"the number of iterations.\", ConvergenceWarning)\n",
            "/usr/local/lib/python3.7/dist-packages/sklearn/svm/_base.py:947: ConvergenceWarning: Liblinear failed to converge, increase the number of iterations.\n",
            "  \"the number of iterations.\", ConvergenceWarning)\n",
            "/usr/local/lib/python3.7/dist-packages/sklearn/svm/_base.py:947: ConvergenceWarning: Liblinear failed to converge, increase the number of iterations.\n",
            "  \"the number of iterations.\", ConvergenceWarning)\n",
            "/usr/local/lib/python3.7/dist-packages/sklearn/svm/_base.py:947: ConvergenceWarning: Liblinear failed to converge, increase the number of iterations.\n",
            "  \"the number of iterations.\", ConvergenceWarning)\n",
            "/usr/local/lib/python3.7/dist-packages/sklearn/svm/_base.py:947: ConvergenceWarning: Liblinear failed to converge, increase the number of iterations.\n",
            "  \"the number of iterations.\", ConvergenceWarning)\n",
            "/usr/local/lib/python3.7/dist-packages/sklearn/svm/_base.py:947: ConvergenceWarning: Liblinear failed to converge, increase the number of iterations.\n",
            "  \"the number of iterations.\", ConvergenceWarning)\n",
            "/usr/local/lib/python3.7/dist-packages/sklearn/svm/_base.py:947: ConvergenceWarning: Liblinear failed to converge, increase the number of iterations.\n",
            "  \"the number of iterations.\", ConvergenceWarning)\n",
            "/usr/local/lib/python3.7/dist-packages/sklearn/svm/_base.py:947: ConvergenceWarning: Liblinear failed to converge, increase the number of iterations.\n",
            "  \"the number of iterations.\", ConvergenceWarning)\n",
            "/usr/local/lib/python3.7/dist-packages/sklearn/svm/_base.py:947: ConvergenceWarning: Liblinear failed to converge, increase the number of iterations.\n",
            "  \"the number of iterations.\", ConvergenceWarning)\n",
            "/usr/local/lib/python3.7/dist-packages/sklearn/svm/_base.py:947: ConvergenceWarning: Liblinear failed to converge, increase the number of iterations.\n",
            "  \"the number of iterations.\", ConvergenceWarning)\n",
            "/usr/local/lib/python3.7/dist-packages/sklearn/svm/_base.py:947: ConvergenceWarning: Liblinear failed to converge, increase the number of iterations.\n",
            "  \"the number of iterations.\", ConvergenceWarning)\n",
            "/usr/local/lib/python3.7/dist-packages/sklearn/svm/_base.py:947: ConvergenceWarning: Liblinear failed to converge, increase the number of iterations.\n",
            "  \"the number of iterations.\", ConvergenceWarning)\n",
            "/usr/local/lib/python3.7/dist-packages/sklearn/svm/_base.py:947: ConvergenceWarning: Liblinear failed to converge, increase the number of iterations.\n",
            "  \"the number of iterations.\", ConvergenceWarning)\n",
            "/usr/local/lib/python3.7/dist-packages/sklearn/svm/_base.py:947: ConvergenceWarning: Liblinear failed to converge, increase the number of iterations.\n",
            "  \"the number of iterations.\", ConvergenceWarning)\n",
            "/usr/local/lib/python3.7/dist-packages/sklearn/svm/_base.py:947: ConvergenceWarning: Liblinear failed to converge, increase the number of iterations.\n",
            "  \"the number of iterations.\", ConvergenceWarning)\n",
            "/usr/local/lib/python3.7/dist-packages/sklearn/svm/_base.py:947: ConvergenceWarning: Liblinear failed to converge, increase the number of iterations.\n",
            "  \"the number of iterations.\", ConvergenceWarning)\n",
            "/usr/local/lib/python3.7/dist-packages/sklearn/svm/_base.py:947: ConvergenceWarning: Liblinear failed to converge, increase the number of iterations.\n",
            "  \"the number of iterations.\", ConvergenceWarning)\n",
            "/usr/local/lib/python3.7/dist-packages/sklearn/svm/_base.py:947: ConvergenceWarning: Liblinear failed to converge, increase the number of iterations.\n",
            "  \"the number of iterations.\", ConvergenceWarning)\n",
            "/usr/local/lib/python3.7/dist-packages/sklearn/svm/_base.py:947: ConvergenceWarning: Liblinear failed to converge, increase the number of iterations.\n",
            "  \"the number of iterations.\", ConvergenceWarning)\n",
            "/usr/local/lib/python3.7/dist-packages/sklearn/svm/_base.py:947: ConvergenceWarning: Liblinear failed to converge, increase the number of iterations.\n",
            "  \"the number of iterations.\", ConvergenceWarning)\n",
            "/usr/local/lib/python3.7/dist-packages/sklearn/svm/_base.py:947: ConvergenceWarning: Liblinear failed to converge, increase the number of iterations.\n",
            "  \"the number of iterations.\", ConvergenceWarning)\n",
            "/usr/local/lib/python3.7/dist-packages/sklearn/svm/_base.py:947: ConvergenceWarning: Liblinear failed to converge, increase the number of iterations.\n",
            "  \"the number of iterations.\", ConvergenceWarning)\n",
            "/usr/local/lib/python3.7/dist-packages/sklearn/svm/_base.py:947: ConvergenceWarning: Liblinear failed to converge, increase the number of iterations.\n",
            "  \"the number of iterations.\", ConvergenceWarning)\n",
            "/usr/local/lib/python3.7/dist-packages/sklearn/svm/_base.py:947: ConvergenceWarning: Liblinear failed to converge, increase the number of iterations.\n",
            "  \"the number of iterations.\", ConvergenceWarning)\n",
            "/usr/local/lib/python3.7/dist-packages/sklearn/svm/_base.py:947: ConvergenceWarning: Liblinear failed to converge, increase the number of iterations.\n",
            "  \"the number of iterations.\", ConvergenceWarning)\n",
            "[Parallel(n_jobs=1)]: Done  30 out of  30 | elapsed:  2.1min finished\n",
            "/usr/local/lib/python3.7/dist-packages/sklearn/svm/_base.py:947: ConvergenceWarning: Liblinear failed to converge, increase the number of iterations.\n",
            "  \"the number of iterations.\", ConvergenceWarning)\n"
          ],
          "name": "stderr"
        },
        {
          "output_type": "stream",
          "text": [
            "Done\n",
            "0:02:13.847309\n",
            "Predicting test data\n",
            "Done\n",
            "0:00:00.010473\n",
            "Accuracy\n",
            "accuracy\n",
            "Confusion Matrix\n",
            "[[537   0   0   0   0   0]\n",
            " [  2 429  56   0   0   4]\n",
            " [  0  10 521   1   0   0]\n",
            " [  0   0   0 496   0   0]\n",
            " [  0   0   0   2 413   5]\n",
            " [  0   0   0  17   0 454]]\n"
          ],
          "name": "stdout"
        },
        {
          "output_type": "display_data",
          "data": {
            "image/png": "[encoded data removed]",
            "text/plain": [
              "<Figure size 576x576 with 2 Axes>"
            ]
          },
          "metadata": {
            "tags": [],
            "needs_background": "light"
          }
        },
        {
          "output_type": "stream",
          "text": [
            "Classification Report\n",
            "                    precision    recall  f1-score   support\n",
            "\n",
            "            LAYING       1.00      1.00      1.00       537\n",
            "           SITTING       0.98      0.87      0.92       491\n",
            "          STANDING       0.90      0.98      0.94       532\n",
            "           WALKING       0.96      1.00      0.98       496\n",
            "WALKING_DOWNSTAIRS       1.00      0.98      0.99       420\n",
            "  WALKING_UPSTAIRS       0.98      0.96      0.97       471\n",
            "\n",
            "          accuracy                           0.97      2947\n",
            "         macro avg       0.97      0.97      0.97      2947\n",
            "      weighted avg       0.97      0.97      0.97      2947\n",
            "\n"
          ],
          "name": "stdout"
        }
      ]
    },
    {
      "cell_type": "markdown",
      "metadata": {
        "id": "ADkDSiBuTVLA"
      },
      "source": [
        "#Kernel SVM with parameter tuinning using Grid Search"
      ]
    },
    {
      "cell_type": "code",
      "metadata": {
        "colab": {
          "base_uri": "https://localhost:8080/",
          "height": 1000
        },
        "id": "hQKPNh7kTbIe",
        "outputId": "1e99aca4-82fb-449b-a067-67d8e5949cc9"
      },
      "source": [
        "from sklearn.svm import SVC\n",
        "parameters = {'C':[2,8,16], 'gamma':[0.0078125, 0.125, 2]}\n",
        "rvf_svm = SVC(kernel = 'rbf')\n",
        "rvf_svm_grid = GridSearchCV(rvf_svm, param_grid = parameters, n_jobs = -1, verbose = 1)\n",
        "rvf_svm_grid_results = perform_model(rvf_svm_grid, X_train, y_train, X_test, y_test, class_labels = labels,)"
      ],
      "execution_count": null,
      "outputs": [
        {
          "output_type": "stream",
          "text": [
            "training the model..\n",
            "Fitting 5 folds for each of 9 candidates, totalling 45 fits\n"
          ],
          "name": "stdout"
        },
        {
          "output_type": "stream",
          "text": [
            "[Parallel(n_jobs=-1)]: Using backend LokyBackend with 2 concurrent workers.\n",
            "[Parallel(n_jobs=-1)]: Done  45 out of  45 | elapsed: 14.4min finished\n"
          ],
          "name": "stderr"
        },
        {
          "output_type": "stream",
          "text": [
            "Done\n",
            "0:14:26.106942\n",
            "Predicting test data\n",
            "Done\n",
            "0:00:03.109739\n",
            "Accuracy\n",
            "accuracy\n",
            "Confusion Matrix\n",
            "[[537   0   0   0   0   0]\n",
            " [  0 441  48   0   0   2]\n",
            " [  0  12 520   0   0   0]\n",
            " [  0   0   0 489   2   5]\n",
            " [  0   0   0   4 397  19]\n",
            " [  0   0   0  17   1 453]]\n"
          ],
          "name": "stdout"
        },
        {
          "output_type": "display_data",
          "data": {
            "image/png": "[encoded data removed]",
            "text/plain": [
              "<Figure size 576x576 with 2 Axes>"
            ]
          },
          "metadata": {
            "tags": [],
            "needs_background": "light"
          }
        },
        {
          "output_type": "stream",
          "text": [
            "Classification Report\n",
            "                    precision    recall  f1-score   support\n",
            "\n",
            "            LAYING       1.00      1.00      1.00       537\n",
            "           SITTING       0.97      0.90      0.93       491\n",
            "          STANDING       0.92      0.98      0.95       532\n",
            "           WALKING       0.96      0.99      0.97       496\n",
            "WALKING_DOWNSTAIRS       0.99      0.95      0.97       420\n",
            "  WALKING_UPSTAIRS       0.95      0.96      0.95       471\n",
            "\n",
            "          accuracy                           0.96      2947\n",
            "         macro avg       0.96      0.96      0.96      2947\n",
            "      weighted avg       0.96      0.96      0.96      2947\n",
            "\n"
          ],
          "name": "stdout"
        }
      ]
    },
    {
      "cell_type": "markdown",
      "metadata": {
        "id": "PWQKqH6xY7KF"
      },
      "source": [
        "#Decision Tree with Grid Search"
      ]
    },
    {
      "cell_type": "code",
      "metadata": {
        "colab": {
          "base_uri": "https://localhost:8080/",
          "height": 1000
        },
        "id": "wF9X8eo-Y_RO",
        "outputId": "5d06bc3f-bfe1-49fc-a355-5007280717c7"
      },
      "source": [
        "from sklearn.tree import DecisionTreeClassifier\n",
        "parameters = {'max_depth': np.arange(3,10,2)}\n",
        "dt = DecisionTreeClassifier()\n",
        "dt_grid = GridSearchCV(dt, param_grid = parameters, n_jobs = 1)\n",
        "dt_grid_results = perform_model(dt_grid, X_train, y_train, X_test, y_test, class_labels = labels)\n",
        "print_grid_search_attributes(dt_grid_results['model'])"
      ],
      "execution_count": null,
      "outputs": [
        {
          "output_type": "stream",
          "text": [
            "training the model..\n",
            "Done\n",
            "0:00:44.666520\n",
            "Predicting test data\n",
            "Done\n",
            "0:00:00.005610\n",
            "Accuracy\n",
            "accuracy\n",
            "Confusion Matrix\n",
            "[[537   0   0   0   0   0]\n",
            " [  0 371 120   0   0   0]\n",
            " [  0  60 472   0   0   0]\n",
            " [  0   0   0 472  18   6]\n",
            " [  0   0   0  23 352  45]\n",
            " [  0   0   0  61  44 366]]\n"
          ],
          "name": "stdout"
        },
        {
          "output_type": "display_data",
          "data": {
            "image/png": "[encoded data removed]",
            "text/plain": [
              "<Figure size 576x576 with 2 Axes>"
            ]
          },
          "metadata": {
            "tags": [],
            "needs_background": "light"
          }
        },
        {
          "output_type": "stream",
          "text": [
            "Classification Report\n",
            "                    precision    recall  f1-score   support\n",
            "\n",
            "            LAYING       1.00      1.00      1.00       537\n",
            "           SITTING       0.86      0.76      0.80       491\n",
            "          STANDING       0.80      0.89      0.84       532\n",
            "           WALKING       0.85      0.95      0.90       496\n",
            "WALKING_DOWNSTAIRS       0.85      0.84      0.84       420\n",
            "  WALKING_UPSTAIRS       0.88      0.78      0.82       471\n",
            "\n",
            "          accuracy                           0.87      2947\n",
            "         macro avg       0.87      0.87      0.87      2947\n",
            "      weighted avg       0.87      0.87      0.87      2947\n",
            "\n",
            "Best Estimator\n",
            "DecisionTreeClassifier(ccp_alpha=0.0, class_weight=None, criterion='gini',\n",
            "                       max_depth=9, max_features=None, max_leaf_nodes=None,\n",
            "                       min_impurity_decrease=0.0, min_impurity_split=None,\n",
            "                       min_samples_leaf=1, min_samples_split=2,\n",
            "                       min_weight_fraction_leaf=0.0, presort='deprecated',\n",
            "                       random_state=None, splitter='best')\n",
            "Best parameters\n",
            "{'max_depth': 9}\n",
            "No of Crossvalidation sets\n",
            "5\n",
            "Best Score\n",
            "0.8501180649010113\n"
          ],
          "name": "stdout"
        }
      ]
    },
    {
      "cell_type": "markdown",
      "metadata": {
        "id": "J-y45W7OaIIk"
      },
      "source": [
        "#Random Forest Classifier"
      ]
    },
    {
      "cell_type": "code",
      "metadata": {
        "colab": {
          "base_uri": "https://localhost:8080/",
          "height": 1000
        },
        "id": "4PQOAM2WaFVY",
        "outputId": "59d11fc5-1d27-4752-ddb7-48654c967a99"
      },
      "source": [
        "from sklearn.ensemble import RandomForestClassifier\n",
        "params = {'n_estimators': np.arange(10,201,20), 'max_depth': np.arange(3,15,2)}\n",
        "rfc = RandomForestClassifier()\n",
        "rfc_grid = GridSearchCV(rfc, param_grid = params, n_jobs = -1)\n",
        "rfc_grid_results = perform_model(rfc_grid, X_train,y_train, X_test, y_test, class_labels = labels)\n",
        "print_grid_search_attributes(rfc_grid_results['model'])"
      ],
      "execution_count": null,
      "outputs": [
        {
          "output_type": "stream",
          "text": [
            "training the model..\n",
            "Done\n",
            "0:25:15.361793\n",
            "Predicting test data\n",
            "Done\n",
            "0:00:00.114011\n",
            "Accuracy\n",
            "accuracy\n",
            "Confusion Matrix\n",
            "[[537   0   0   0   0   0]\n",
            " [  0 431  60   0   0   0]\n",
            " [  0  44 488   0   0   0]\n",
            " [  0   0   0 477  11   8]\n",
            " [  0   0   0  23 355  42]\n",
            " [  0   0   0  43   6 422]]\n"
          ],
          "name": "stdout"
        },
        {
          "output_type": "display_data",
          "data": {
            "image/png": "[encoded data removed]",
            "text/plain": [
              "<Figure size 576x576 with 2 Axes>"
            ]
          },
          "metadata": {
            "tags": [],
            "needs_background": "light"
          }
        },
        {
          "output_type": "stream",
          "text": [
            "Classification Report\n",
            "                    precision    recall  f1-score   support\n",
            "\n",
            "            LAYING       1.00      1.00      1.00       537\n",
            "           SITTING       0.91      0.88      0.89       491\n",
            "          STANDING       0.89      0.92      0.90       532\n",
            "           WALKING       0.88      0.96      0.92       496\n",
            "WALKING_DOWNSTAIRS       0.95      0.85      0.90       420\n",
            "  WALKING_UPSTAIRS       0.89      0.90      0.90       471\n",
            "\n",
            "          accuracy                           0.92      2947\n",
            "         macro avg       0.92      0.92      0.92      2947\n",
            "      weighted avg       0.92      0.92      0.92      2947\n",
            "\n",
            "Best Estimator\n",
            "RandomForestClassifier(bootstrap=True, ccp_alpha=0.0, class_weight=None,\n",
            "                       criterion='gini', max_depth=13, max_features='auto',\n",
            "                       max_leaf_nodes=None, max_samples=None,\n",
            "                       min_impurity_decrease=0.0, min_impurity_split=None,\n",
            "                       min_samples_leaf=1, min_samples_split=2,\n",
            "                       min_weight_fraction_leaf=0.0, n_estimators=190,\n",
            "                       n_jobs=None, oob_score=False, random_state=None,\n",
            "                       verbose=0, warm_start=False)\n",
            "Best parameters\n",
            "{'max_depth': 13, 'n_estimators': 190}\n",
            "No of Crossvalidation sets\n",
            "5\n",
            "Best Score\n",
            "0.9217935875913927\n"
          ],
          "name": "stdout"
        }
      ]
    },
    {
      "cell_type": "markdown",
      "metadata": {
        "id": "AB-Xi6cikE5V"
      },
      "source": [
        "#Gradient Boosting"
      ]
    },
    {
      "cell_type": "code",
      "metadata": {
        "colab": {
          "base_uri": "https://localhost:8080/"
        },
        "id": "MWgwe3rakD2L",
        "outputId": "cb6c0b73-294f-4c39-cbc6-d1f0855913f3"
      },
      "source": [
        "from sklearn.ensemble import GradientBoostingClassifier\n",
        "param_grid = {'max_depth': np.arange(5,8,1), \\\n",
        "              'n_estimators': np.arange(130, 170, 10)}\n",
        "\n",
        "gbdt = GradientBoostingClassifier()\n",
        "\n",
        "gbdt_grid = GridSearchCV(gbdt, param_grid = param_grid, n_jobs = -1)\n",
        "gbdt_grid_results = perform_model(gbdt_grid, X_train, y_train, X_test, y_test, class_labels = labels)\n",
        "\n",
        "print_grid_searach_attributes(gbdt_grid_results['model'])"
      ],
      "execution_count": null,
      "outputs": [
        {
          "output_type": "stream",
          "text": [
            "training the model..\n"
          ],
          "name": "stdout"
        }
      ]
    },
    {
      "cell_type": "code",
      "metadata": {
        "id": "70tu6EqzLg3Q"
      },
      "source": [
        "print('\\n                     Accuracy     Error')\n",
        "print('                     ----------   --------')\n",
        "print('Logistic Regression : {:.04}%       {:.04}%'.format(log_reg_grid_results['accuracy'] * 100,\\\n",
        "                                                  100-(log_reg_grid_results['accuracy'] * 100)))\n",
        "\n",
        "print('Linear SVC          : {:.04}%       {:.04}% '.format(lr_svc_grid_results['accuracy'] * 100,\\\n",
        "                                                        100-(lr_svc_grid_results['accuracy'] * 100)))\n",
        "\n",
        "print('rbf SVM classifier  : {:.04}%      {:.04}% '.format(rbf_svm_grid_results['accuracy'] * 100,\\\n",
        "                                                          100-(rbf_svm_grid_results['accuracy'] * 100)))\n",
        "\n",
        "print('DecisionTree        : {:.04}%      {:.04}% '.format(dt_grid_results['accuracy'] * 100,\\\n",
        "                                                        100-(dt_grid_results['accuracy'] * 100)))\n",
        "\n",
        "print('Random Forest       : {:.04}%      {:.04}% '.format(rfc_grid_results['accuracy'] * 100,\\\n",
        "                                                           100-(rfc_grid_results['accuracy'] * 100)))\n",
        "print('GradientBoosting DT : {:.04}%      {:.04}% '.format(rfc_grid_results['accuracy'] * 100,\\\n",
        "                                                        100-(rfc_grid_results['accuracy'] * 100)))"
      ],
      "execution_count": null,
      "outputs": []
    }
  ]
}